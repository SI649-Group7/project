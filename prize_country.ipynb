{
 "cells": [
  {
   "cell_type": "code",
   "execution_count": 28,
   "metadata": {},
   "outputs": [],
   "source": [
    "import pandas as pd\n",
    "import altair as alt\n",
    "df=pd.read_csv('data/data.csv')"
   ]
  },
  {
   "cell_type": "code",
   "execution_count": 29,
   "metadata": {},
   "outputs": [
    {
     "data": {
      "text/html": [
       "<div>\n",
       "<style scoped>\n",
       "    .dataframe tbody tr th:only-of-type {\n",
       "        vertical-align: middle;\n",
       "    }\n",
       "\n",
       "    .dataframe tbody tr th {\n",
       "        vertical-align: top;\n",
       "    }\n",
       "\n",
       "    .dataframe thead th {\n",
       "        text-align: right;\n",
       "    }\n",
       "</style>\n",
       "<table border=\"1\" class=\"dataframe\">\n",
       "  <thead>\n",
       "    <tr style=\"text-align: right;\">\n",
       "      <th></th>\n",
       "      <th>YEAR</th>\n",
       "      <th>COUNTRY</th>\n",
       "      <th>PRIZE</th>\n",
       "    </tr>\n",
       "  </thead>\n",
       "  <tbody>\n",
       "    <tr>\n",
       "      <th>0</th>\n",
       "      <td>2018</td>\n",
       "      <td>AUS</td>\n",
       "      <td>150000</td>\n",
       "    </tr>\n",
       "    <tr>\n",
       "      <th>1</th>\n",
       "      <td>2018</td>\n",
       "      <td>CHN</td>\n",
       "      <td>3200000</td>\n",
       "    </tr>\n",
       "    <tr>\n",
       "      <th>2</th>\n",
       "      <td>2018</td>\n",
       "      <td>DEN</td>\n",
       "      <td>775000</td>\n",
       "    </tr>\n",
       "    <tr>\n",
       "      <th>3</th>\n",
       "      <td>2018</td>\n",
       "      <td>ENG</td>\n",
       "      <td>1000000</td>\n",
       "    </tr>\n",
       "    <tr>\n",
       "      <th>4</th>\n",
       "      <td>2018</td>\n",
       "      <td>ESP</td>\n",
       "      <td>150000</td>\n",
       "    </tr>\n",
       "  </tbody>\n",
       "</table>\n",
       "</div>"
      ],
      "text/plain": [
       "   YEAR COUNTRY    PRIZE\n",
       "0  2018     AUS   150000\n",
       "1  2018     CHN  3200000\n",
       "2  2018     DEN   775000\n",
       "3  2018     ENG  1000000\n",
       "4  2018     ESP   150000"
      ]
     },
     "execution_count": 29,
     "metadata": {},
     "output_type": "execute_result"
    }
   ],
   "source": [
    "df = df[['WEEK', 'COUNTRY', 'DATES', 'PRIZE', 'YEAR']]\n",
    "\n",
    "\n",
    "table = pd.pivot_table(df, values='PRIZE', index=['YEAR', 'COUNTRY'], aggfunc=sum)\n",
    "\n",
    "\n",
    "table = table.reset_index()\n",
    "\n",
    "\n",
    "table.head()"
   ]
  },
  {
   "cell_type": "code",
   "execution_count": 30,
   "metadata": {},
   "outputs": [
    {
     "data": {
      "text/plain": [
       "array(['  AUS', '  CHN', '  DEN', '  ENG', '  ESP', '  FRA', '  GER',\n",
       "       '  HKG', '  INA', '  IND', '  JPN', '  KOR', '  MAC', '  MAS',\n",
       "       '  NZL', '  SGP', '  SUI', '  THA', '  TPE', '  USA'], dtype=object)"
      ]
     },
     "execution_count": 30,
     "metadata": {},
     "output_type": "execute_result"
    }
   ],
   "source": [
    "table.COUNTRY.unique()"
   ]
  },
  {
   "cell_type": "code",
   "execution_count": 31,
   "metadata": {},
   "outputs": [],
   "source": [
    "chart = alt.Chart(table).transform_window(\n",
    "\n",
    "    sort=[alt.SortField('YEAR'), alt.SortField('COUNTRY')],\n",
    "\n",
    "    cumulative_prize='sum(PRIZE)',\n",
    "\n",
    "    groupby=['COUNTRY']\n",
    ").mark_line().encode(\n",
    "\n",
    "    x='YEAR:O',\n",
    "\n",
    "    y='cumulative_prize:Q',\n",
    "\n",
    "    color='COUNTRY:N'\n",
    ")\n",
    "country_selection = alt.selection_single(\n",
    "    fields=['COUNTRY'],\n",
    "    bind=alt.binding_select(options=[None, '  AUS', '  CHN', '  DEN', '  ENG', '  ESP', '  FRA', '  GER',\n",
    "       '  HKG', '  INA', '  IND', '  JPN', '  KOR', '  MAC', '  MAS',\n",
    "       '  NZL', '  SGP', '  SUI', '  THA', '  TPE', '  USA']),\n",
    "    name='Select'\n",
    ")\n",
    "\n",
    "\n",
    "chart = chart.transform_filter(\n",
    "    country_selection\n",
    ")\n",
    "\n",
    "line_chart = chart.add_selection(\n",
    "    country_selection\n",
    ").properties(\n",
    " width=400,\n",
    " height=800,\n",
    " title=alt.TitleParams(\n",
    " text='Accumulative Prize for Each Country',\n",
    " )\n",
    " )\n",
    "point_chart = alt.Chart(table).transform_window(\n",
    "\n",
    "    sort=[alt.SortField('YEAR'), alt.SortField('COUNTRY')],\n",
    "\n",
    "    cumulative_prize='sum(PRIZE)',\n",
    "\n",
    "    groupby=['COUNTRY']\n",
    ").mark_point().encode(\n",
    "    x='YEAR:O',\n",
    "    y='cumulative_prize:Q',\n",
    "    color='COUNTRY:N',\n",
    "    tooltip=[alt.Tooltip('PRIZE:Q', format=','),\n",
    "         alt.Tooltip('COUNTRY:N'),\n",
    "         alt.Tooltip('YEAR:O')]\n",
    ")\n",
    "opacity_condition = alt.condition(\n",
    "    country_selection,\n",
    "    alt.value(1), \n",
    "    alt.value(0) \n",
    ")\n",
    "\n",
    "\n",
    "point_chart = point_chart.encode(\n",
    "    opacity=opacity_condition\n",
    ")\n",
    "# layer the point chart on top of the line chart\n",
    "chart = alt.layer(line_chart, point_chart)\n",
    "\n"
   ]
  },
  {
   "cell_type": "code",
   "execution_count": 32,
   "metadata": {},
   "outputs": [
    {
     "data": {
      "text/html": [
       "\n",
       "<div id=\"altair-viz-c8bf4defc35b48c8a07873283e2ec3cb\"></div>\n",
       "<script type=\"text/javascript\">\n",
       "  var VEGA_DEBUG = (typeof VEGA_DEBUG == \"undefined\") ? {} : VEGA_DEBUG;\n",
       "  (function(spec, embedOpt){\n",
       "    let outputDiv = document.currentScript.previousElementSibling;\n",
       "    if (outputDiv.id !== \"altair-viz-c8bf4defc35b48c8a07873283e2ec3cb\") {\n",
       "      outputDiv = document.getElementById(\"altair-viz-c8bf4defc35b48c8a07873283e2ec3cb\");\n",
       "    }\n",
       "    const paths = {\n",
       "      \"vega\": \"https://cdn.jsdelivr.net/npm//vega@5?noext\",\n",
       "      \"vega-lib\": \"https://cdn.jsdelivr.net/npm//vega-lib?noext\",\n",
       "      \"vega-lite\": \"https://cdn.jsdelivr.net/npm//vega-lite@4.17.0?noext\",\n",
       "      \"vega-embed\": \"https://cdn.jsdelivr.net/npm//vega-embed@6?noext\",\n",
       "    };\n",
       "\n",
       "    function maybeLoadScript(lib, version) {\n",
       "      var key = `${lib.replace(\"-\", \"\")}_version`;\n",
       "      return (VEGA_DEBUG[key] == version) ?\n",
       "        Promise.resolve(paths[lib]) :\n",
       "        new Promise(function(resolve, reject) {\n",
       "          var s = document.createElement('script');\n",
       "          document.getElementsByTagName(\"head\")[0].appendChild(s);\n",
       "          s.async = true;\n",
       "          s.onload = () => {\n",
       "            VEGA_DEBUG[key] = version;\n",
       "            return resolve(paths[lib]);\n",
       "          };\n",
       "          s.onerror = () => reject(`Error loading script: ${paths[lib]}`);\n",
       "          s.src = paths[lib];\n",
       "        });\n",
       "    }\n",
       "\n",
       "    function showError(err) {\n",
       "      outputDiv.innerHTML = `<div class=\"error\" style=\"color:red;\">${err}</div>`;\n",
       "      throw err;\n",
       "    }\n",
       "\n",
       "    function displayChart(vegaEmbed) {\n",
       "      vegaEmbed(outputDiv, spec, embedOpt)\n",
       "        .catch(err => showError(`Javascript Error: ${err.message}<br>This usually means there's a typo in your chart specification. See the javascript console for the full traceback.`));\n",
       "    }\n",
       "\n",
       "    if(typeof define === \"function\" && define.amd) {\n",
       "      requirejs.config({paths});\n",
       "      require([\"vega-embed\"], displayChart, err => showError(`Error loading script: ${err.message}`));\n",
       "    } else {\n",
       "      maybeLoadScript(\"vega\", \"5\")\n",
       "        .then(() => maybeLoadScript(\"vega-lite\", \"4.17.0\"))\n",
       "        .then(() => maybeLoadScript(\"vega-embed\", \"6\"))\n",
       "        .catch(showError)\n",
       "        .then(() => displayChart(vegaEmbed));\n",
       "    }\n",
       "  })({\"config\": {\"view\": {\"continuousWidth\": 400, \"continuousHeight\": 300}}, \"layer\": [{\"mark\": \"line\", \"encoding\": {\"color\": {\"field\": \"COUNTRY\", \"type\": \"nominal\"}, \"x\": {\"field\": \"YEAR\", \"type\": \"ordinal\"}, \"y\": {\"field\": \"cumulative_prize\", \"type\": \"quantitative\"}}, \"height\": 800, \"selection\": {\"Select\": {\"type\": \"single\", \"fields\": [\"COUNTRY\"], \"bind\": {\"input\": \"select\", \"options\": [null, \"  AUS\", \"  CHN\", \"  DEN\", \"  ENG\", \"  ESP\", \"  FRA\", \"  GER\", \"  HKG\", \"  INA\", \"  IND\", \"  JPN\", \"  KOR\", \"  MAC\", \"  MAS\", \"  NZL\", \"  SGP\", \"  SUI\", \"  THA\", \"  TPE\", \"  USA\"]}}}, \"title\": {\"text\": \"Accumulative Prize for Each Country\"}, \"transform\": [{\"window\": [{\"op\": \"sum\", \"field\": \"PRIZE\", \"as\": \"cumulative_prize\"}], \"groupby\": [\"COUNTRY\"], \"sort\": [{\"field\": \"YEAR\"}, {\"field\": \"COUNTRY\"}]}, {\"filter\": {\"selection\": \"Select\"}}], \"width\": 400}, {\"mark\": \"point\", \"encoding\": {\"color\": {\"field\": \"COUNTRY\", \"type\": \"nominal\"}, \"opacity\": {\"condition\": {\"value\": 1, \"selection\": \"Select\"}, \"value\": 0}, \"tooltip\": [{\"field\": \"PRIZE\", \"format\": \",\", \"type\": \"quantitative\"}, {\"field\": \"COUNTRY\", \"type\": \"nominal\"}, {\"field\": \"YEAR\", \"type\": \"ordinal\"}], \"x\": {\"field\": \"YEAR\", \"type\": \"ordinal\"}, \"y\": {\"field\": \"cumulative_prize\", \"type\": \"quantitative\"}}, \"transform\": [{\"window\": [{\"op\": \"sum\", \"field\": \"PRIZE\", \"as\": \"cumulative_prize\"}], \"groupby\": [\"COUNTRY\"], \"sort\": [{\"field\": \"YEAR\"}, {\"field\": \"COUNTRY\"}]}]}], \"data\": {\"name\": \"data-2af4e43f302d35fb888cf157242de026\"}, \"$schema\": \"https://vega.github.io/schema/vega-lite/v4.17.0.json\", \"datasets\": {\"data-2af4e43f302d35fb888cf157242de026\": [{\"YEAR\": 2018, \"COUNTRY\": \"  AUS\", \"PRIZE\": 150000}, {\"YEAR\": 2018, \"COUNTRY\": \"  CHN\", \"PRIZE\": 3200000}, {\"YEAR\": 2018, \"COUNTRY\": \"  DEN\", \"PRIZE\": 775000}, {\"YEAR\": 2018, \"COUNTRY\": \"  ENG\", \"PRIZE\": 1000000}, {\"YEAR\": 2018, \"COUNTRY\": \"  ESP\", \"PRIZE\": 150000}, {\"YEAR\": 2018, \"COUNTRY\": \"  FRA\", \"PRIZE\": 750000}, {\"YEAR\": 2018, \"COUNTRY\": \"  GER\", \"PRIZE\": 150000}, {\"YEAR\": 2018, \"COUNTRY\": \"  HKG\", \"PRIZE\": 400000}, {\"YEAR\": 2018, \"COUNTRY\": \"  INA\", \"PRIZE\": 1600000}, {\"YEAR\": 2018, \"COUNTRY\": \"  IND\", \"PRIZE\": 500000}, {\"YEAR\": 2018, \"COUNTRY\": \"  JPN\", \"PRIZE\": 700000}, {\"YEAR\": 2018, \"COUNTRY\": \"  KOR\", \"PRIZE\": 850000}, {\"YEAR\": 2018, \"COUNTRY\": \"  MAC\", \"PRIZE\": 150000}, {\"YEAR\": 2018, \"COUNTRY\": \"  MAS\", \"PRIZE\": 1050000}, {\"YEAR\": 2018, \"COUNTRY\": \"  NZL\", \"PRIZE\": 150000}, {\"YEAR\": 2018, \"COUNTRY\": \"  SGP\", \"PRIZE\": 355000}, {\"YEAR\": 2018, \"COUNTRY\": \"  SUI\", \"PRIZE\": 150000}, {\"YEAR\": 2018, \"COUNTRY\": \"  THA\", \"PRIZE\": 500000}, {\"YEAR\": 2018, \"COUNTRY\": \"  TPE\", \"PRIZE\": 500000}, {\"YEAR\": 2018, \"COUNTRY\": \"  USA\", \"PRIZE\": 150000}, {\"YEAR\": 2019, \"COUNTRY\": \"  AUS\", \"PRIZE\": 150000}, {\"YEAR\": 2019, \"COUNTRY\": \"  CHN\", \"PRIZE\": 3200000}, {\"YEAR\": 2019, \"COUNTRY\": \"  DEN\", \"PRIZE\": 775000}, {\"YEAR\": 2019, \"COUNTRY\": \"  ENG\", \"PRIZE\": 1000000}, {\"YEAR\": 2019, \"COUNTRY\": \"  ESP\", \"PRIZE\": 150000}, {\"YEAR\": 2019, \"COUNTRY\": \"  FRA\", \"PRIZE\": 750000}, {\"YEAR\": 2019, \"COUNTRY\": \"  GER\", \"PRIZE\": 150000}, {\"YEAR\": 2019, \"COUNTRY\": \"  HKG\", \"PRIZE\": 400000}, {\"YEAR\": 2019, \"COUNTRY\": \"  INA\", \"PRIZE\": 1600000}, {\"YEAR\": 2019, \"COUNTRY\": \"  IND\", \"PRIZE\": 500000}, {\"YEAR\": 2019, \"COUNTRY\": \"  JPN\", \"PRIZE\": 750000}, {\"YEAR\": 2019, \"COUNTRY\": \"  KOR\", \"PRIZE\": 600000}, {\"YEAR\": 2019, \"COUNTRY\": \"  MAC\", \"PRIZE\": 150000}, {\"YEAR\": 2019, \"COUNTRY\": \"  MAS\", \"PRIZE\": 1050000}, {\"YEAR\": 2019, \"COUNTRY\": \"  NZL\", \"PRIZE\": 150000}, {\"YEAR\": 2019, \"COUNTRY\": \"  SGP\", \"PRIZE\": 355000}, {\"YEAR\": 2019, \"COUNTRY\": \"  SUI\", \"PRIZE\": 150000}, {\"YEAR\": 2019, \"COUNTRY\": \"  THA\", \"PRIZE\": 500000}, {\"YEAR\": 2019, \"COUNTRY\": \"  TPE\", \"PRIZE\": 500000}, {\"YEAR\": 2019, \"COUNTRY\": \"  USA\", \"PRIZE\": 150000}, {\"YEAR\": 2020, \"COUNTRY\": \"  AUS\", \"PRIZE\": 170000}, {\"YEAR\": 2020, \"COUNTRY\": \"  CHN\", \"PRIZE\": 1850000}, {\"YEAR\": 2020, \"COUNTRY\": \"  DEN\", \"PRIZE\": 775000}, {\"YEAR\": 2020, \"COUNTRY\": \"  ENG\", \"PRIZE\": 1100000}, {\"YEAR\": 2020, \"COUNTRY\": \"  ESP\", \"PRIZE\": 170000}, {\"YEAR\": 2020, \"COUNTRY\": \"  FRA\", \"PRIZE\": 750000}, {\"YEAR\": 2020, \"COUNTRY\": \"  GER\", \"PRIZE\": 170000}, {\"YEAR\": 2020, \"COUNTRY\": \"  HKG\", \"PRIZE\": 400000}, {\"YEAR\": 2020, \"COUNTRY\": \"  INA\", \"PRIZE\": 1750000}, {\"YEAR\": 2020, \"COUNTRY\": \"  IND\", \"PRIZE\": 570000}, {\"YEAR\": 2020, \"COUNTRY\": \"  JPN\", \"PRIZE\": 750000}, {\"YEAR\": 2020, \"COUNTRY\": \"  KOR\", \"PRIZE\": 600000}, {\"YEAR\": 2020, \"COUNTRY\": \"  MAC\", \"PRIZE\": 170000}, {\"YEAR\": 2020, \"COUNTRY\": \"  MAS\", \"PRIZE\": 1150000}, {\"YEAR\": 2020, \"COUNTRY\": \"  NZL\", \"PRIZE\": 170000}, {\"YEAR\": 2020, \"COUNTRY\": \"  SGP\", \"PRIZE\": 408000}, {\"YEAR\": 2020, \"COUNTRY\": \"  SUI\", \"PRIZE\": 175000}, {\"YEAR\": 2020, \"COUNTRY\": \"  THA\", \"PRIZE\": 570000}, {\"YEAR\": 2020, \"COUNTRY\": \"  TPE\", \"PRIZE\": 500000}, {\"YEAR\": 2020, \"COUNTRY\": \"  USA\", \"PRIZE\": 170000}]}}, {\"mode\": \"vega-lite\"});\n",
       "</script>"
      ],
      "text/plain": [
       "alt.LayerChart(...)"
      ]
     },
     "execution_count": 32,
     "metadata": {},
     "output_type": "execute_result"
    }
   ],
   "source": [
    "chart"
   ]
  },
  {
   "cell_type": "code",
   "execution_count": null,
   "metadata": {},
   "outputs": [],
   "source": []
  }
 ],
 "metadata": {
  "kernelspec": {
   "display_name": "Python 3 (ipykernel)",
   "language": "python",
   "name": "python3"
  },
  "language_info": {
   "codemirror_mode": {
    "name": "ipython",
    "version": 3
   },
   "file_extension": ".py",
   "mimetype": "text/x-python",
   "name": "python",
   "nbconvert_exporter": "python",
   "pygments_lexer": "ipython3",
   "version": "3.10.9"
  }
 },
 "nbformat": 4,
 "nbformat_minor": 2
}
